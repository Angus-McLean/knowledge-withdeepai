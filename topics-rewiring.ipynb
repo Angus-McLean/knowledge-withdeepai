{
 "cells": [
  {
   "cell_type": "code",
   "execution_count": 15,
   "metadata": {},
   "outputs": [],
   "source": [
    "import glob\n",
    "import json"
   ]
  },
  {
   "cell_type": "code",
   "execution_count": 24,
   "metadata": {},
   "outputs": [
    {
     "name": "stdout",
     "output_type": "stream",
     "text": [
      "{\"Materials Engineering\": {\"name\": \"Materials Engineering\", \"path\": \"public > knowledge_atlas > All Knowledge > Applied Sciences > Engineering > Materials Engineering\"}, \"Chemical Engineering\": {\"name\": \"Chemical Engineering\", \"path\": \"public > knowledge_atlas > All Knowledge > Applied Sciences > Engineering > Chemical Engineering\"}, \"Aerospace Engineering\": {\"name\": \"Aerospace Engineering\", \"path\": \"public > knowledge_atlas > All Knowledge > Applied Sciences > Engineering > Aerospace Engineering\"}, \"data.json\": {\"name\": \"data.json\", \"path\": \"public > knowledge_atlas > All Knowledge > Applied Sciences > Engineering > data.json\"}, \"Biomedical Engineering\": {\"name\": \"Biomedical Engineering\", \"path\": \"public > knowledge_atlas > All Knowledge > Applied Sciences > Engineering > Biomedical Engineering\"}, \"Civil Engineering\": {\"name\": \"Civil Engineering\", \"path\": \"public > knowledge_atlas > All Knowledge > Applied Sciences > Engineering > Civil Engineering\"}, \"Mechanical Engineering\": {\"name\": \"Mechanical Engineering\", \"path\": \"public > knowledge_atlas > All Knowledge > Applied Sciences > Engineering > Mechanical Engineering\"}, \"Electrical Engineering\": {\"name\": \"Electrical Engineering\", \"path\": \"public > knowledge_atlas > All Knowledge > Applied Sciences > Engineering > Electrical Engineering\"}}\n"
     ]
    }
   ],
   "source": [
    "# for a give folder, parse the subfolders (2 levels deep only) and return a json object\n",
    "\n",
    "\n",
    "\n",
    "def parse_folder(folderPath):\n",
    "    '''\n",
    "    Example Returned format\n",
    "    {\n",
    "        \"SubFolder1\": {\n",
    "            \"SubFolder1.1\": {\n",
    "                \"name\": \"SubFolder1.1\",\n",
    "                \"path\": folderPath + SubFolder1\n",
    "            }\n",
    "        }\n",
    "    }\n",
    "    '''\n",
    "    folderDict = {}\n",
    "    for folder in glob.glob(folderPath + \"/*/\", recursive=True):\n",
    "        folderDict[folder.split(\"/\")[-1]] = {}\n",
    "        for subfolder in glob.glob(folder + \"/*\"):\n",
    "            folderDict[folder.split(\"/\")[-1]][subfolder.split(\"/\")[-1]] = {\n",
    "                \"name\": subfolder.split(\"/\")[-1],\n",
    "                \"path\": subfolder.replace(\"/\", \" > \")\n",
    "            }\n",
    "    return folderDict['']\n",
    "\n",
    "# Example usage\n",
    "\n",
    "print(json.dumps(parse_folder(\"public/knowledge_atlas/All Knowledge/Applied Sciences/\")))\n"
   ]
  },
  {
   "cell_type": "code",
   "execution_count": 4,
   "metadata": {},
   "outputs": [
    {
     "data": {
      "text/plain": [
       "'public > knowledge_atlas > All Knowledge > Applied Sciences > Business > Finance'"
      ]
     },
     "execution_count": 4,
     "metadata": {},
     "output_type": "execute_result"
    }
   ],
   "source": [
    "# python replace all in string\n",
    "string = \"public/knowledge_atlas/All Knowledge/Applied Sciences/Business/Finance\"\n",
    "\n",
    "\n",
    "# glob 2 levels deep\n",
    "glob.glob(string + \"/**/*/\")\n",
    "\n"
   ]
  },
  {
   "cell_type": "code",
   "execution_count": null,
   "metadata": {},
   "outputs": [],
   "source": []
  }
 ],
 "metadata": {
  "kernelspec": {
   "display_name": "Python 3",
   "language": "python",
   "name": "python3"
  },
  "language_info": {
   "codemirror_mode": {
    "name": "ipython",
    "version": 3
   },
   "file_extension": ".py",
   "mimetype": "text/x-python",
   "name": "python",
   "nbconvert_exporter": "python",
   "pygments_lexer": "ipython3",
   "version": "3.11.3"
  },
  "orig_nbformat": 4,
  "vscode": {
   "interpreter": {
    "hash": "aee8b7b246df8f9039afb4144a1f6fd8d2ca17a180786b69acc140d282b71a49"
   }
  }
 },
 "nbformat": 4,
 "nbformat_minor": 2
}
